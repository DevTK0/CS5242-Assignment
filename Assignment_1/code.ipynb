{
 "cells": [
  {
   "cell_type": "code",
   "execution_count": 8,
   "metadata": {},
   "outputs": [
    {
     "data": {
      "image/png": "[encoded data removed]",
      "text/plain": [
       "<Figure size 640x480 with 1 Axes>"
      ]
     },
     "metadata": {},
     "output_type": "display_data"
    }
   ],
   "source": [
    "import numpy as np\n",
    "import matplotlib.pyplot as plt\n",
    "\n",
    "# define your element wise relu function\n",
    "def relu(x,y):\n",
    "    return x*(x>0) , y* (y>0)\n",
    "\n",
    "# define your element wise sigmoid function\n",
    "def sigmoid(x,y):\n",
    "    # code here\n",
    "    return sx, sy\n",
    "\n",
    "# define your linear function\n",
    "def linear(x):\n",
    "    w = [-1, 2]\n",
    "    b = [2, -3]\n",
    "    return w[0]*x+b [0],w[1]*x+b [1]\n",
    "\n",
    "lower = - 1\n",
    "upper = 2\n",
    "ngrid = 150 #number of points\n",
    "symsize=0.5 #symbol size\n",
    "x = np.linspace(lower, upper, ngrid)\n",
    "y = np.zeros(ngrid)\n",
    "\n",
    "# apply linear function\n",
    "lx,ly = linear (x)\n",
    "\n",
    "# apply relu function\n",
    "rx, ry = relu(lx, ly)\n",
    "plt.scatter(x,y,s=symsize)\n",
    "plt.scatter(lx,ly,s=symsize)\n",
    "plt.scatter(rx,ry,s=symsize)\n",
    "plt.show()"
   ]
  },
  {
   "cell_type": "code",
   "execution_count": null,
   "metadata": {},
   "outputs": [],
   "source": [
    "import torch\n",
    "\n",
    "\"\"\"\n",
    "conver to array\n",
    "x y\n",
    "0.97 2.0\n",
    "0.016 0.025\n",
    "0.87 1.4\n",
    "0.70 1.5\n",
    "0.11 0.19 \n",
    "0.023 0.048\n",
    "0.65 1.4\n",
    "0.27 0.55\n",
    "0.21 0.40\n",
    "0.087 0.19\n",
    "\"\"\"\n",
    "x = torch.tensor([[0.97, 0.016, 0.87, 0.70, 0.11, 0.023, 0.65, 0.27, 0.21, 0.087]])\n",
    "y = torch.tensor([[2.0, 0.025, 1.4, 1.5, 0.19, 0.048, 1.4, 0.55, 0.40, 0.19]])\n",
    "w = torch.zeros_like(x)\n",
    "\n",
    "axis_x = []\n",
    "axis_y = []\n",
    "\n",
    "optimizer = torch.optim.SGD([w], lr=0.01)\n",
    "for epoch in range(100):\n",
    "    optimizer.zero_grad()\n",
    "    loss = torch.sum((y - w*x)**2)\n",
    "    loss.backward()\n",
    "    optimizer.step()\n",
    "\n",
    "    \n",
    "    axis_x.append(loss.item())\n",
    "    axis_y.append(w)\n",
    "\n",
    "    \n",
    "\n"
   ]
  }
 ],
 "metadata": {
  "kernelspec": {
   "display_name": "pytorch",
   "language": "python",
   "name": "python3"
  },
  "language_info": {
   "codemirror_mode": {
    "name": "ipython",
    "version": 3
   },
   "file_extension": ".py",
   "mimetype": "text/x-python",
   "name": "python",
   "nbconvert_exporter": "python",
   "pygments_lexer": "ipython3",
   "version": "3.11.4"
  },
  "orig_nbformat": 4
 },
 "nbformat": 4,
 "nbformat_minor": 2
}
